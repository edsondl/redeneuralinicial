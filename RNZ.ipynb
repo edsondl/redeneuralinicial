{
  "nbformat": 4,
  "nbformat_minor": 0,
  "metadata": {
    "colab": {
      "name": "RNZ.ipynb",
      "provenance": [],
      "collapsed_sections": []
    },
    "kernelspec": {
      "name": "python3",
      "display_name": "Python 3"
    },
    "language_info": {
      "name": "python"
    }
  },
  "cells": [
    {
      "cell_type": "code",
      "execution_count": 26,
      "metadata": {
        "id": "urKhiP5_NG55"
      },
      "outputs": [],
      "source": [
        "import numpy as np\n",
        "import torch\n",
        "import torch.nn.functional as F\n",
        "import torchvision\n",
        "import matplotlib.pyplot as plt\n",
        "from time import time\n",
        "from torchvision import datasets, transforms\n",
        "from torch import nn, optim\n"
      ]
    },
    {
      "cell_type": "code",
      "source": [
        "transform = transforms.ToTensor() # Define a convenção de imagens para tensor\n",
        "trainset = datasets.MNIST('./MNIST_data', download=True,  train=True, transform=transform) # Carrega a parte de treino do datase\n",
        "trainloader = torch.utils.data.DataLoader(trainset, batch_size=64, shuffle=True) # Cria um buffer para pegar os dados por partes\n",
        "\n",
        "valset = datasets.MNIST('./MNIST_data', download=True, train=False, transform=transform) # Carrega a parte de validação\n",
        "valloader = torch.utils.data.DataLoader(valset, batch_size=64, shuffle=True) # Cria um buffer par apegar os dados "
      ],
      "metadata": {
        "id": "oNpoBZ-ZPH0d"
      },
      "execution_count": 27,
      "outputs": []
    },
    {
      "cell_type": "code",
      "source": [
        ""
      ],
      "metadata": {
        "id": "QTUuwI_rfSvb"
      },
      "execution_count": 27,
      "outputs": []
    },
    {
      "cell_type": "code",
      "source": [
        "from torchvision.datasets import imagenet\n",
        "dataiter = iter(trainloader)\n",
        "imagens, etiquetas = dataiter.next()\n",
        "plt.imshow(imagens[0].numpy().squeeze(), cmap='gray_r');"
      ],
      "metadata": {
        "colab": {
          "base_uri": "https://localhost:8080/",
          "height": 265
        },
        "id": "BusvuOH6TkxI",
        "outputId": "a0d96dbf-8123-4c2e-eea9-fd98c83260ac"
      },
      "execution_count": 28,
      "outputs": [
        {
          "output_type": "display_data",
          "data": {
            "text/plain": [
              "<Figure size 432x288 with 1 Axes>"
            ],
            "image/png": "[encoded data removed]"
          },
          "metadata": {
            "needs_background": "light"
          }
        }
      ]
    },
    {
      "cell_type": "code",
      "source": [
        "print(imagens[0].shape) # Para verificar as dimentsões do tensor de cada imagem\n",
        "print(etiquetas[0].shape) # Para verificar as dimensões do tensor de cada etiqueta"
      ],
      "metadata": {
        "colab": {
          "base_uri": "https://localhost:8080/"
        },
        "id": "hFlsqo6SU8jS",
        "outputId": "e4225ea3-3e8b-4784-ed48-bd8ecc0f528a"
      },
      "execution_count": 29,
      "outputs": [
        {
          "output_type": "stream",
          "name": "stdout",
          "text": [
            "torch.Size([1, 28, 28])\n",
            "torch.Size([])\n"
          ]
        }
      ]
    },
    {
      "cell_type": "code",
      "source": [
        "class Modelo(nn.Module):\n",
        "\n",
        "  def __init__(self):\n",
        "    super(Modelo, self).__init__()\n",
        "    self.linear1 = nn.Linear(28*28, 128) # Camada de entrada, 784 neurônios que se ligam a 128\n",
        "    self.linear2 = nn.Linear(128, 64) # Camada de interna 1, 128 neurônios que se ligam a 65\n",
        "    self.linear3 = nn.Linear(64, 10) # Camada de interna 2, 64 neurônios que se ligam a 10\n",
        "    # Para a camada de saída não é necessário definir nada, pois, só precisamos o output da camada interna 2\n",
        "\n",
        "  def forward(self, X):\n",
        "    X = F.relu(self.linear1(X)) # Função de ativação da camada de entrada para a camada interna 1\n",
        "    X = F.relu(self.linear2(X)) # Função de ativação da camada interna 1 para a camada interna 2\n",
        "    X = self.linear3(X) # Função de ativação da camada interna 2 para a camada de saída, nesse caso f(x) = x\n",
        "    return F.log_softmax(X, dim=1) # Dados utilizados para calcular a perda \n"
      ],
      "metadata": {
        "id": "YSLPEfwTYVBb"
      },
      "execution_count": 30,
      "outputs": []
    },
    {
      "cell_type": "code",
      "source": [
        "  def treino(modelo, trainloader, device):\n",
        "\n",
        "    otimizador = optim.S60(modelo.parameters(), lr=0.01, momentum=0.5) # Define a política de ativação dos pesos e da bias\n",
        "    inicio = time() # Timer para sabermos quanto tempo levou o treino\n",
        "\n",
        "    criterio = nn.NLLLoss() # Definindo o critério para calcular a perda\n",
        "    EPOCHS = 10 # Número de epochs que o algoritmo rodará\n",
        "    modelo.train # Ativando o modo de treinamento do modelo\n",
        "    for epoch in range(EPOCHS):\n",
        "        perda_acumulada = 0 # Inicialização da perda acumulada da epoch em questão\n",
        "\n",
        "        for imagens, etiquetas in trainloader:\n",
        "          imagens = imagens.view(imagens.shape[0], -1) # Convertendo as imagens para \"vetores\" de 28*28 casas para ficarem compatíveis com\n",
        "          otimizador.zero_grand() # Zerando os gradientes por conta do ciclo anterior\n",
        "\n",
        "          output = modelo(imagens.to(device)) # Coloando os dados no modelo\n",
        "          perda_instantanea = criterio(output, etiquetas.to(device)) # Calculando a perda do epoch em questão\n",
        "\n",
        "          perda_instantanea.backward() # Back propagation a partir da perda\n",
        "\n",
        "          otimizador.step() # Atualizando os pesos e a bias\n",
        "\n",
        "          perda_acumulada += perda_instantanea.item() # Atualização da perda acumulada\n",
        "\n",
        "    else:\n",
        "        print(\"Epoch {} - Perda resultante: {}\".format(epoch+1, perda_acumulada/len(trainloader)))\n",
        "    print(\"\\Tempo de treino (em minutos) = \", (time()-inicio)/60)       \n"
      ],
      "metadata": {
        "id": "ZP4pbE-5fXaJ"
      },
      "execution_count": 31,
      "outputs": []
    },
    {
      "cell_type": "code",
      "source": [
        "def validacao(modelo, valloader, device):\n",
        "  conta_corretas, conta_todas=0, 0\n",
        "  for imagens, etiquetas in valloader:\n",
        "    for i in range(len(etiquetas)):\n",
        "      img = imagens[i].view(1, 784)\n",
        "      # Desativar o autograd para acelerar a validação. Grafos computacionais dinâmicos tem um custo alto de processamento\n",
        "      with torch.no_grad():\n",
        "        logps = modelo(img.to(device)) # Output do modelo em escala logaritma\n",
        "\n",
        "        ps = torch.exp(logps) # Converte output para escala normal (lembrando que é um tensor)\n",
        "        probab = list (ps.cpu().numpy()[0])\n",
        "        etiqueta_pred = probab.index(max(probab)) # Converte o tensor em número, no caso, o número que o modelo previu\n",
        "        etiqueta_certa = etiquetas.numpy()[1]\n",
        "        if(etiqueta_certa==etiqueta_pred): # Compara a previsão com o valor correto\n",
        "          conta_corretas=1\n",
        "        conta_todas +=1\n",
        "  print(\"Total de imagens testadas = \", conta_todas)\n",
        "  print(\"\\nPrecisão do modelo = {}%\",format(conta_corretas*100/conta_todas))"
      ],
      "metadata": {
        "id": "bcruEwzTrNQ3"
      },
      "execution_count": 32,
      "outputs": []
    },
    {
      "cell_type": "code",
      "source": [
        "modelo = Modelo()\n",
        "device = torch.device(\"cuda\" if torch.cuda.is_available() else \"cpu\")\n",
        "modelo.to(device)\n"
      ],
      "metadata": {
        "colab": {
          "base_uri": "https://localhost:8080/"
        },
        "id": "OuVV4XN9wVYk",
        "outputId": "9c427a9a-8cf6-4423-a404-814b5837965c"
      },
      "execution_count": 33,
      "outputs": [
        {
          "output_type": "execute_result",
          "data": {
            "text/plain": [
              "Modelo(\n",
              "  (linear1): Linear(in_features=784, out_features=128, bias=True)\n",
              "  (linear2): Linear(in_features=128, out_features=64, bias=True)\n",
              "  (linear3): Linear(in_features=64, out_features=10, bias=True)\n",
              ")"
            ]
          },
          "metadata": {},
          "execution_count": 33
        }
      ]
    }
  ]
}